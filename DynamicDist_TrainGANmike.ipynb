{
 "cells": [
  {
   "cell_type": "code",
   "execution_count": 1,
   "metadata": {},
   "outputs": [
    {
     "name": "stderr",
     "output_type": "stream",
     "text": [
      "Using TensorFlow backend.\n"
     ]
    },
    {
     "name": "stdout",
     "output_type": "stream",
     "text": [
      "[name: \"/cpu:0\"\n",
      "device_type: \"CPU\"\n",
      "memory_limit: 268435456\n",
      "locality {\n",
      "}\n",
      "incarnation: 3040077643807868816\n",
      ", name: \"/gpu:0\"\n",
      "device_type: \"GPU\"\n",
      "memory_limit: 11332668621\n",
      "locality {\n",
      "  bus_id: 1\n",
      "}\n",
      "incarnation: 4591050474028247531\n",
      "physical_device_desc: \"device: 0, name: Tesla K80, pci bus id: 0000:06:00.0\"\n",
      ", name: \"/gpu:1\"\n",
      "device_type: \"GPU\"\n",
      "memory_limit: 11330676327\n",
      "locality {\n",
      "  bus_id: 1\n",
      "}\n",
      "incarnation: 1571590385801101956\n",
      "physical_device_desc: \"device: 1, name: Tesla K80, pci bus id: 0000:07:00.0\"\n",
      ", name: \"/gpu:2\"\n",
      "device_type: \"GPU\"\n",
      "memory_limit: 11330614068\n",
      "locality {\n",
      "  bus_id: 1\n",
      "}\n",
      "incarnation: 13594789490573055085\n",
      "physical_device_desc: \"device: 2, name: Tesla K80, pci bus id: 0000:0e:00.0\"\n",
      "]\n"
     ]
    }
   ],
   "source": [
    "import numpy as np\n",
    "#from School.STAT946.Project import GAN, Distill_Model\n",
    "import GANmike, Distill_Model\n",
    "#from School.STAT946.Project.mnist_challenge.model import Model as targ_model\n",
    "from keras.datasets import mnist\n",
    "from keras.utils import to_categorical\n",
    "from tqdm import tqdm\n",
    "from keras.models import load_model as load\n",
    "import tensorflow as tf\n",
    "from sklearn.metrics import accuracy_score\n",
    "#from matplotlib import pyplot as plt\n",
    "\n",
    "import sys\n",
    "import os\n",
    "os.environ[\"CUDA_DEVICE_ORDER\"]=\"PCI_BUS_ID\"\n",
    "os.environ[\"CUDA_VISIBLE_DEVICES\"]=\"0,1,2\"\n",
    "from tensorflow.python.client import device_lib\n",
    "import pickle\n",
    "print(device_lib.list_local_devices())\n",
    "#system_path= 'ResearchDocuments/STAT946/Project/'\n",
    "system_path= './'\n",
    "\n",
    "def make_trainable(net, val):\n",
    "    net.trainable = val\n",
    "    for l in net.layers:\n",
    "        l.trainable = val"
   ]
  },
  {
   "cell_type": "code",
   "execution_count": 2,
   "metadata": {
    "collapsed": true
   },
   "outputs": [],
   "source": [
    "outputfile=open('DynDistClog.txt','w')\n",
    "\n",
    "def train_for_n(batches=20000,batch_size=128,distillation='static'):\n",
    "\n",
    "    #Distill the adversarial model\n",
    "    print('Initial distillation (same for static and dynamic)')\n",
    "    Distill_Model.Distill_Model(target=target, model=f, X=X,iterations=5, mode='epoch')\n",
    "\n",
    "\n",
    "    for t in range(batches):\n",
    "\n",
    "        # Make generative images & select real images\n",
    "        real_image_batch = X[np.random.randint(0,X.shape[0],size=int(batch_size/2)),:,:,:]\n",
    "        fake_sample=np.random.randint(0,X.shape[0],size=int(batch_size/2))\n",
    "        fake_image_inp = X[fake_sample,:,:,:]\n",
    "        fake_image_batch = np.add(fake_image_inp,G.predict(fake_image_inp))\n",
    "\n",
    "        # Train discriminator on generated images\n",
    "        X_batch = np.concatenate((real_image_batch, fake_image_batch))\n",
    "        y1 = np.zeros([batch_size,1])\n",
    "        y1[0:int(batch_size/2),] = 1\n",
    "\n",
    "        #train the discriminator\n",
    "        make_trainable(D,True)\n",
    "        D.train_on_batch(X_batch,y1)\n",
    "\n",
    "        #sample more real images to train the generator\n",
    "        sample_int=np.random.randint(0,X.shape[0],size=int(batch_size))\n",
    "        fake_image_inp = X[sample_int,:,:,:]\n",
    "        y_discrim = np.ones([batch_size,1])\n",
    "        y_class=y[sample_int]\n",
    "        y_hinge=np.zeros([batch_size,28,28,1])\n",
    "\n",
    "        make_trainable(D,False)\n",
    "        make_trainable(f,False)\n",
    "        h_GAN = GAN_mod.train_on_batch(fake_image_inp, [y_discrim,y_class,y_hinge])\n",
    "\n",
    "        #Dynamic distillation\n",
    "        if distillation=='dynamic':\n",
    "            make_trainable(f,True)\n",
    "            Distill_Model.Distill_Model(target=target, model=f, X=X_batch,iterations=2,mode='batch')\n",
    "\n",
    "        if t%100==0:\n",
    "            targ_pred=np.argmax(target.predict(fake_image_batch),1)\n",
    "            adv_acc=accuracy_score(np.argmax(y[fake_sample],1),targ_pred)\n",
    "            outputfile.write('Dynamic Accuracy: ' + str(adv_acc))\n",
    "            #plt.imshow(fake_img_batch[0,])\n",
    "\n",
    "    return"
   ]
  },
  {
   "cell_type": "code",
   "execution_count": 3,
   "metadata": {},
   "outputs": [
    {
     "ename": "TypeError",
     "evalue": "categorical_crossentropy() missing 2 required positional arguments: 'target' and 'output'",
     "output_type": "error",
     "traceback": [
      "\u001b[0;31m---------------------------------------------------------------------------\u001b[0m",
      "\u001b[0;31mTypeError\u001b[0m                                 Traceback (most recent call last)",
      "\u001b[0;32m<ipython-input-3-34c7cf2cf9a1>\u001b[0m in \u001b[0;36m<module>\u001b[0;34m()\u001b[0m\n\u001b[1;32m      1\u001b[0m \u001b[0;31m#modelname is an uppercase letter\u001b[0m\u001b[0;34m\u001b[0m\u001b[0;34m\u001b[0m\u001b[0m\n\u001b[0;32m----> 2\u001b[0;31m \u001b[0mGAN_mod\u001b[0m\u001b[0;34m,\u001b[0m \u001b[0mG\u001b[0m\u001b[0;34m,\u001b[0m \u001b[0mD\u001b[0m\u001b[0;34m,\u001b[0m \u001b[0mf\u001b[0m\u001b[0;34m=\u001b[0m \u001b[0mGANmike\u001b[0m\u001b[0;34m.\u001b[0m\u001b[0mDefine_GAN\u001b[0m\u001b[0;34m(\u001b[0m\u001b[0;34m[\u001b[0m\u001b[0;36m28\u001b[0m\u001b[0;34m,\u001b[0m\u001b[0;36m28\u001b[0m\u001b[0;34m,\u001b[0m\u001b[0;36m1\u001b[0m\u001b[0;34m]\u001b[0m\u001b[0;34m,\u001b[0m \u001b[0;36m100\u001b[0m\u001b[0;34m,\u001b[0m \u001b[0;36m10000\u001b[0m\u001b[0;34m,\u001b[0m\u001b[0;34m'C'\u001b[0m\u001b[0;34m)\u001b[0m\u001b[0;34m\u001b[0m\u001b[0m\n\u001b[0m\u001b[1;32m      3\u001b[0m \u001b[0mprint\u001b[0m\u001b[0;34m(\u001b[0m\u001b[0;34m'Importing target model C'\u001b[0m\u001b[0;34m)\u001b[0m\u001b[0;34m\u001b[0m\u001b[0m\n\u001b[1;32m      4\u001b[0m \u001b[0;32mdef\u001b[0m \u001b[0mfn\u001b[0m\u001b[0;34m(\u001b[0m\u001b[0mcorrect\u001b[0m\u001b[0;34m,\u001b[0m \u001b[0mpredicted\u001b[0m\u001b[0;34m)\u001b[0m\u001b[0;34m:\u001b[0m\u001b[0;34m\u001b[0m\u001b[0m\n\u001b[1;32m      5\u001b[0m     \u001b[0;32mreturn\u001b[0m \u001b[0mtf\u001b[0m\u001b[0;34m.\u001b[0m\u001b[0mnn\u001b[0m\u001b[0;34m.\u001b[0m\u001b[0msoftmax_cross_entropy_with_logits\u001b[0m\u001b[0;34m(\u001b[0m\u001b[0mlabels\u001b[0m\u001b[0;34m=\u001b[0m\u001b[0mcorrect\u001b[0m\u001b[0;34m,\u001b[0m\u001b[0mlogits\u001b[0m\u001b[0;34m=\u001b[0m\u001b[0mpredicted\u001b[0m\u001b[0;34m)\u001b[0m\u001b[0;34m\u001b[0m\u001b[0m\n",
      "\u001b[0;32m~/AdvGANICLR/tkk/GANmike.py\u001b[0m in \u001b[0;36mDefine_GAN\u001b[0;34m(input_shape, alpha, beta, modelname)\u001b[0m\n\u001b[1;32m     20\u001b[0m         \u001b[0mf\u001b[0m\u001b[0;34m=\u001b[0m\u001b[0mDistilledB\u001b[0m\u001b[0;34m.\u001b[0m\u001b[0mDefine_Distilled\u001b[0m\u001b[0;34m(\u001b[0m\u001b[0minput_shape\u001b[0m\u001b[0;34m)\u001b[0m\u001b[0;34m\u001b[0m\u001b[0m\n\u001b[1;32m     21\u001b[0m     \u001b[0;32mif\u001b[0m \u001b[0mmodelname\u001b[0m\u001b[0;34m==\u001b[0m\u001b[0;34m'C'\u001b[0m\u001b[0;34m:\u001b[0m\u001b[0;34m\u001b[0m\u001b[0m\n\u001b[0;32m---> 22\u001b[0;31m         \u001b[0mf\u001b[0m\u001b[0;34m=\u001b[0m\u001b[0mDistilledC\u001b[0m\u001b[0;34m.\u001b[0m\u001b[0mDefine_Distilled\u001b[0m\u001b[0;34m(\u001b[0m\u001b[0minput_shape\u001b[0m\u001b[0;34m)\u001b[0m\u001b[0;34m\u001b[0m\u001b[0m\n\u001b[0m\u001b[1;32m     23\u001b[0m     \u001b[0mx_inp\u001b[0m\u001b[0;34m=\u001b[0m\u001b[0mInput\u001b[0m\u001b[0;34m(\u001b[0m\u001b[0minput_shape\u001b[0m\u001b[0;34m)\u001b[0m\u001b[0;34m\u001b[0m\u001b[0m\n\u001b[1;32m     24\u001b[0m     \u001b[0mperturb\u001b[0m\u001b[0;34m=\u001b[0m\u001b[0mG\u001b[0m\u001b[0;34m(\u001b[0m\u001b[0mx_inp\u001b[0m\u001b[0;34m)\u001b[0m\u001b[0;34m\u001b[0m\u001b[0m\n",
      "\u001b[0;32m~/AdvGANICLR/tkk/DistilledC.py\u001b[0m in \u001b[0;36mDefine_Distilled\u001b[0;34m(input_shape)\u001b[0m\n\u001b[1;32m     54\u001b[0m \u001b[0;34m\u001b[0m\u001b[0m\n\u001b[1;32m     55\u001b[0m     \u001b[0msgd\u001b[0m \u001b[0;34m=\u001b[0m \u001b[0mSGD\u001b[0m\u001b[0;34m(\u001b[0m\u001b[0mlr\u001b[0m\u001b[0;34m=\u001b[0m\u001b[0;36m0.01\u001b[0m\u001b[0;34m,\u001b[0m \u001b[0mdecay\u001b[0m\u001b[0;34m=\u001b[0m\u001b[0;36m1e-6\u001b[0m\u001b[0;34m,\u001b[0m \u001b[0mmomentum\u001b[0m\u001b[0;34m=\u001b[0m\u001b[0;36m0.9\u001b[0m\u001b[0;34m,\u001b[0m \u001b[0mnesterov\u001b[0m\u001b[0;34m=\u001b[0m\u001b[0;32mTrue\u001b[0m\u001b[0;34m)\u001b[0m\u001b[0;34m\u001b[0m\u001b[0m\n\u001b[0;32m---> 56\u001b[0;31m     \u001b[0mmodel\u001b[0m\u001b[0;34m.\u001b[0m\u001b[0mcompile\u001b[0m\u001b[0;34m(\u001b[0m\u001b[0mloss\u001b[0m\u001b[0;34m=\u001b[0m\u001b[0mK\u001b[0m\u001b[0;34m.\u001b[0m\u001b[0mcategorical_crossentropy\u001b[0m\u001b[0;34m(\u001b[0m\u001b[0;34m)\u001b[0m\u001b[0;34m,\u001b[0m\u001b[0moptimizer\u001b[0m\u001b[0;34m=\u001b[0m\u001b[0msgd\u001b[0m\u001b[0;34m,\u001b[0m\u001b[0mmetrics\u001b[0m\u001b[0;34m=\u001b[0m\u001b[0;34m[\u001b[0m\u001b[0;34m'accuracy'\u001b[0m\u001b[0;34m]\u001b[0m\u001b[0;34m)\u001b[0m\u001b[0;34m\u001b[0m\u001b[0m\n\u001b[0m\u001b[1;32m     57\u001b[0m     '''model.compile(loss=fn,\n\u001b[1;32m     58\u001b[0m                   \u001b[0moptimizer\u001b[0m\u001b[0;34m=\u001b[0m\u001b[0msgd\u001b[0m\u001b[0;34m,\u001b[0m\u001b[0;34m\u001b[0m\u001b[0m\n",
      "\u001b[0;31mTypeError\u001b[0m: categorical_crossentropy() missing 2 required positional arguments: 'target' and 'output'"
     ]
    }
   ],
   "source": [
    "#modelname is an uppercase letter\n",
    "GAN_mod, G, D, f= GANmike.Define_GAN([28,28,1], 100, 10000,'C')\n",
    "print('Importing target model C')\n",
    "def fn(correct, predicted):\n",
    "    return tf.nn.softmax_cross_entropy_with_logits(labels=correct,logits=predicted)\n",
    "target=load('./ModelC_PristineOnly', custom_objects={'fn':fn})\n",
    "\n",
    "\n",
    "print('Loading MNIST data')\n",
    "(X,y),(X_test,y_test)=mnist.load_data()\n",
    "X= np.divide(X,255)\n",
    "X=X.reshape(X.shape[0],28,28,1)\n",
    "X_test= np.divide(X_test,255)\n",
    "X_test=X_test.reshape(X_test.shape[0],28,28,1)\n",
    "y=to_categorical(y, num_classes=10)\n",
    "y_test=to_categorical(y_test, num_classes=10)\n"
   ]
  },
  {
   "cell_type": "code",
   "execution_count": null,
   "metadata": {
    "collapsed": true
   },
   "outputs": [],
   "source": [
    "print('Training')\n",
    "train_for_n(batches=10000,batch_size=128,distillation='dynamic')\n"
   ]
  },
  {
   "cell_type": "code",
   "execution_count": null,
   "metadata": {
    "collapsed": true
   },
   "outputs": [],
   "source": [
    "GAN_mod, G, D, f= GANmike.Define_GAN([28,28,1], 100, 10000,'')\n",
    "GAN_mod.save_weights('./dynamicdistweights/C_DynDist_Ganwt10k')\n",
    "G.save_weights('./dynamicdistweights/C_DynDist_Gwt10k')\n",
    "D.save_weights('./dynamicdistweights/C_DynDist_Dwt10k')\n",
    "f.save_weights('./dynamicdistweights/C_DynDist_fwt10k')"
   ]
  },
  {
   "cell_type": "code",
   "execution_count": null,
   "metadata": {
    "collapsed": true
   },
   "outputs": [],
   "source": [
    "X_test_perturb=np.add(X_test,G.predict(X_test))\n",
    "targ_pred=np.argmax(target.predict(X_test_perturb),1)\n",
    "adv_acc=accuracy_score(np.argmax(y_test,1),targ_pred)\n",
    "print('Test Accuracy: ' + str(adv_acc))"
   ]
  },
  {
   "cell_type": "code",
   "execution_count": null,
   "metadata": {
    "collapsed": true
   },
   "outputs": [],
   "source": [
    "#My testing\n",
    "y_test=pickle.load(open('Y_testm.p','rb'))\n",
    "prx_test=pickle.load(open('X_testm.p','rb'))\n",
    "#f2=load('ModelC_PristineOnly', custom_objects={'fn':fn})\n",
    "#prprd=f2.predict(prx_test)\n",
    "#advprd=f2.predict(generated_images)\n",
    "#prprd_y = np.argmax(prprd, axis=1)\n",
    "#advprd_y = np.argmax(advprd, axis=1)\n",
    "prscore=target.evaluate(prx_test,y_test, verbose=1)\n",
    "advscore=target.evaluate(X_test_perturb, y_test, verbose=1)\n",
    "print('Pristine Images: Test Accuracy:',prscore[1])\n",
    "print('Adv Images Test accuracy:',advscore[1])\n"
   ]
  },
  {
   "cell_type": "code",
   "execution_count": null,
   "metadata": {
    "collapsed": true
   },
   "outputs": [],
   "source": [
    "#GAN_mod.load_weights('./dynamicdistweights/C_DynDist_Ganwt20k')\n",
    "#G.load_weights('./dynamicdistweights/C_DynDist_Gwt20k')\n",
    "#D.load_weights('./dynamicdistweights/C_DynDist_Dwt20k')\n",
    "#f.load_weights('./dynamicdistweights/C_DynDist_fwt20k')"
   ]
  }
 ],
 "metadata": {
  "kernelspec": {
   "display_name": "Python 3",
   "language": "python",
   "name": "python3"
  },
  "language_info": {
   "codemirror_mode": {
    "name": "ipython",
    "version": 3
   },
   "file_extension": ".py",
   "mimetype": "text/x-python",
   "name": "python",
   "nbconvert_exporter": "python",
   "pygments_lexer": "ipython3",
   "version": "3.5.2"
  }
 },
 "nbformat": 4,
 "nbformat_minor": 2
}
