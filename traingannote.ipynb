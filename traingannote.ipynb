{
 "cells": [
  {
   "cell_type": "code",
   "execution_count": 2,
   "metadata": {},
   "outputs": [
    {
     "name": "stdout",
     "output_type": "stream",
     "text": [
      "[name: \"/cpu:0\"\n",
      "device_type: \"CPU\"\n",
      "memory_limit: 268435456\n",
      "locality {\n",
      "}\n",
      "incarnation: 10884574574626203764\n",
      ", name: \"/gpu:0\"\n",
      "device_type: \"GPU\"\n",
      "memory_limit: 11332668621\n",
      "locality {\n",
      "  bus_id: 1\n",
      "}\n",
      "incarnation: 3175153084408406163\n",
      "physical_device_desc: \"device: 0, name: Tesla K80, pci bus id: 0000:06:00.0\"\n",
      ", name: \"/gpu:1\"\n",
      "device_type: \"GPU\"\n",
      "memory_limit: 11330676327\n",
      "locality {\n",
      "  bus_id: 1\n",
      "}\n",
      "incarnation: 2737413038201778771\n",
      "physical_device_desc: \"device: 1, name: Tesla K80, pci bus id: 0000:07:00.0\"\n",
      ", name: \"/gpu:2\"\n",
      "device_type: \"GPU\"\n",
      "memory_limit: 11330614068\n",
      "locality {\n",
      "  bus_id: 1\n",
      "}\n",
      "incarnation: 8038665252209828221\n",
      "physical_device_desc: \"device: 2, name: Tesla K80, pci bus id: 0000:0e:00.0\"\n",
      ", name: \"/gpu:3\"\n",
      "device_type: \"GPU\"\n",
      "memory_limit: 11328684032\n",
      "locality {\n",
      "  bus_id: 1\n",
      "}\n",
      "incarnation: 16996284626137858309\n",
      "physical_device_desc: \"device: 3, name: Tesla K80, pci bus id: 0000:0f:00.0\"\n",
      "]\n"
     ]
    },
    {
     "name": "stderr",
     "output_type": "stream",
     "text": [
      "Using TensorFlow backend.\n"
     ]
    }
   ],
   "source": [
    "'''\n",
    "Created on Nov 24, 2017\n",
    "\n",
    "Purpose is to replicate results of Generating Adversarial Examples with Adversarial Networks, ICLR 2018.\n",
    "This script implements the training process for the GAN model.\n",
    "'''\n",
    "import sys\n",
    "import os\n",
    "os.environ[\"CUDA_DEVICE_ORDER\"]=\"PCI_BUS_ID\"\n",
    "os.environ[\"CUDA_VISIBLE_DEVICES\"]=\"0,1,2,3\"\n",
    "from tensorflow.python.client import device_lib\n",
    "import pickle\n",
    "print(device_lib.list_local_devices())\n",
    "import numpy as np\n",
    "#from School.STAT946.Project impimport GAN\n",
    "import keras\n",
    "import GAN\n",
    "from Losses import *\n",
    "from keras.optimizers import SGD\n",
    "import keras.backend as K\n",
    "import tensorflow as tf\n",
    "from keras.datasets import mnist\n",
    "from keras.utils import to_categorical\n",
    "'''from keras.backend.tensorflow_backend import set_session\n",
    "config = tf.ConfigProto()\n",
    "config.gpu_options.per_process_gpu_memory_fraction = 0.3\n",
    "set_session(tf.Session(config=config))'''\n",
    "\n",
    "import tensorflow as tf\n",
    "config = tf.ConfigProto()\n",
    "config.gpu_options.allow_growth=True\n",
    "# Assume that you have 12GB of GPU memory and want to allocate 500MB:\n",
    "config.gpu_options.per_process_gpu_memory_fraction=(500/12000)\n",
    "sess = tf.Session(config=config)\n",
    "def make_trainable(net, val):\n",
    "    net.trainable = val\n",
    "    for l in net.layers:\n",
    "        l.trainable = val\n",
    "\n",
    "def fn(correct, predicted):\n",
    "    return tf.nn.softmax_cross_entropy_with_logits(labels=correct,\n",
    "                                                       logits=predicted)\n",
    "\n"
   ]
  },
  {
   "cell_type": "code",
   "execution_count": null,
   "metadata": {
    "collapsed": true
   },
   "outputs": [],
   "source": [
    "def train_for_n(epochs=5000,batch_size=128):\n",
    "    #from tqdm import tqdm\n",
    "    \n",
    "    for tk in range(epochs):\n",
    "        if(tk==0):\n",
    "            print(\"Entered the loop\")\n",
    "        # Make generative images\n",
    "        real_image_batch = X[np.random.randint(0,X.shape[0],size=int(batch_size/2)),:,:,:]\n",
    "        fake_image_inp = X[np.random.randint(0,X.shape[0],size=int(batch_size/2)),:,:,:]\n",
    "        fake_image_batch = np.add(fake_image_inp,G.predict(fake_image_inp))\n",
    "\n",
    "        # Train discriminator on generated images\n",
    "        X_batch = np.concatenate((real_image_batch, fake_image_batch))\n",
    "        y1 = np.zeros([batch_size,1])\n",
    "        y1[0:int(batch_size/2),] = 1\n",
    "        \n",
    "        make_trainable(D,True)\n",
    "        D.train_on_batch(X_batch,y1)\n",
    "        #d_loss  = D.train_on_batch(X_batch,y1)\n",
    "        #losses[\"d\"][e]=d_loss\n",
    "\n",
    "        #train Generator-Discriminator stack on input noise to non-generated output class\n",
    "        sample_int=np.random.randint(0,X.shape[0],size=int(batch_size))\n",
    "        fake_image_inp = X[sample_int,:,:,:]\n",
    "        y_discrim = np.ones([batch_size,1])\n",
    "        y_class=y[sample_int]\n",
    "        y_hinge=np.zeros([batch_size,28,28,1])\n",
    "        \n",
    "        make_trainable(D,False)\n",
    "        scalarloss=GAN.train_on_batch(fake_image_inp, [y_discrim,y_class,y_hinge])\n",
    "        #g_loss = GAN.train_on_batch(noise_tr, y2 )\n",
    "        if(tk%500==0):\n",
    "            print(\"Epoch number:\",tk,\"; Loss\",scalarloss)\n",
    "         #losses[\"g\"][e]=g_loss\n",
    "    #GAN.save('GAN_CPristine100')\n",
    "    #G.save('G_CPristine100')\n",
    "    #D.save('D_CPristine100')\n",
    "    #f.save('f_CPristine100')\n",
    "    \n",
    "    return\n",
    "\n"
   ]
  },
  {
   "cell_type": "code",
   "execution_count": null,
   "metadata": {
    "collapsed": true
   },
   "outputs": [],
   "source": [
    "GAN, G, D, f= GAN.Define_GAN([28,28,1], 100, 10000,'B')\n",
    "print(\"=||=\"*7)\n",
    "print(\"=||=\"*7)\n",
    "#f.summary()\n",
    "(X,y),(_,_)=mnist.load_data()\n",
    "X= np.divide(X,255)\n",
    "X=X.reshape(X.shape[0],28,28,1)\n",
    "y=to_categorical(y, num_classes=10)\n",
    "make_trainable(f,False)\n",
    "print('Model F\\n')\n",
    "f.summary()\n",
    "#make_trainable(f2,False)\n"
   ]
  },
  {
   "cell_type": "code",
   "execution_count": null,
   "metadata": {
    "collapsed": true
   },
   "outputs": [],
   "source": []
  },
  {
   "cell_type": "code",
   "execution_count": null,
   "metadata": {
    "collapsed": true
   },
   "outputs": [],
   "source": [
    "train_for_n(epochs=1000,batch_size=128)\n",
    "GAN.save_weights('WhiteBox/C_Wbox_Ganwt1k')\n",
    "G.save_weights('WhiteBox/C_Wbox_Gwt1k')\n",
    "D.save_weights('WhiteBox/C_Wbox_Dwt1k')\n",
    "f.save_weights('WhiteBox/C_Wbox_fwt1k')\n",
    "print('Done')\n",
    "#GAN.save('GAN_BPristine15000')\n",
    "#G.save('G_BPristine15000')\n",
    "#D.save('D_BPristine15000')\n",
    "#f.save('f_BPristine15000')"
   ]
  },
  {
   "cell_type": "code",
   "execution_count": null,
   "metadata": {
    "collapsed": true
   },
   "outputs": [],
   "source": [
    "\n",
    "#This is the compile function for C. To be called \"After freezing the weights\"\n",
    "#sgd= SGD(lr=0.01, decay=1e-6, momentum=0.9, nesterov=True)\n",
    "#f2.compile(loss=fn,optimizer=sgd,metrics=['accuracy'])\n",
    "#f.summary()\n",
    "#make_trainable(f2,False)"
   ]
  },
  {
   "cell_type": "code",
   "execution_count": null,
   "metadata": {
    "collapsed": true
   },
   "outputs": [],
   "source": [
    "GAN, G, D, f= GAN.Define_GAN([28,28,1], 100, 10000,'C')\n",
    "GAN.load_weights('WhiteBox/C_Wbox_Ganwt1k')\n",
    "G.load_weights('WhiteBox/C_Wbox_Gwt1k')\n",
    "D.load_weights('WhiteBox/C_Wbox_Dwt1k')\n",
    "f.load_weights('WhiteBox/C_Wbox_fwt1k')\n",
    "make_trainable(f, False)"
   ]
  },
  {
   "cell_type": "code",
   "execution_count": null,
   "metadata": {
    "collapsed": true,
    "scrolled": true
   },
   "outputs": [],
   "source": [
    "from keras.layers import Input, Add\n",
    "import pickle\n",
    "import matplotlib.pyplot as plt\n",
    "X_test=pickle.load(open(\"X_testm.p\",\"rb\"))\n",
    "perturb=G.predict(X_test)\n",
    "perturb_out=perturb.reshape(10000,28,28)\n",
    "\n",
    "\n",
    "print(np.sum(perturb[10,:,:]==perturb[100,:,:]))\n",
    "print(np.max(perturb_out))\n",
    "perturb_out=np.array(perturb_out,dtype='float')\n",
    "\n",
    "plt.imshow(perturb_out[1,:,:],cmap=\"Greys_r\")\n",
    "plt.show()\n",
    "Y_testp=pickle.load(open('Y_testm.p',\"rb\"))\n",
    "generated_images= X_test+perturb\n",
    "X_testout=X_test.reshape(10000,28,28)\n",
    "\n",
    "generated_images_out=generated_images.reshape(10000,28,28)\n",
    "generated_images_out=np.array(generated_images_out,dtype='float')\n",
    "\n",
    "plt.imshow(generated_images_out[1,:,:],cmap=\"Greys_r\")\n",
    "plt.show()\n",
    "plt.imshow(X_testout[1,:,:],cmap=\"Greys_r\")\n",
    "plt.show()"
   ]
  },
  {
   "cell_type": "code",
   "execution_count": null,
   "metadata": {
    "collapsed": true
   },
   "outputs": [],
   "source": [
    "y_test=pickle.load(open('Y_testm.p','rb'))\n",
    "prx_test=pickle.load(open('X_testm.p','rb'))\n",
    "#f2=keras.models.load_model('ModelB_PristineOnly')\n",
    "#prprd=f2.predict(prx_test)\n",
    "#advprd=f2.predict(generated_images)\n",
    "#prprd_y = np.argmax(prprd, axis=1)\n",
    "#advprd_y = np.argmax(advprd, axis=1)\n",
    "prscore=f.evaluate(prx_test,y_test, verbose=1)\n",
    "advscore=f.evaluate(generated_images, y_test, verbose=1)\n",
    "print('Pristine Images: Test Accuracy:',prscore[1])\n",
    "print('Adv Images Test accuracy:',advscore[1])\n"
   ]
  },
  {
   "cell_type": "code",
   "execution_count": null,
   "metadata": {
    "collapsed": true
   },
   "outputs": [],
   "source": [
    "target_model=target_model_train(\"C\",50,128)\n",
    "prd = target_model.predict(x_test)\n",
    "prd_y = np.argmax(prd, axis=1)\n",
    "y_test = np.argmax(y_test, axis=1)\n",
    "\n",
    "nb_correct_labels = np.sum(prd_y == y_test)\n",
    "print('Test accuracy is: ', nb_correct_labels/len(y_test))\n",
    "target_model.save('./ModelC.h5') # creates a HDF5 file 'mlp1.h5'\n",
    "#results=target_model.evaluate(x_test,y_test,verbose=1)\n",
    "#print('Test accuracy:', results)\n"
   ]
  },
  {
   "cell_type": "code",
   "execution_count": null,
   "metadata": {
    "collapsed": true
   },
   "outputs": [],
   "source": [
    "f, axarr = plt.subplots(9,9)\n",
    "for tk in range(900,999,10):\n",
    "    temp=[]\n",
    "    for i in range(9):\n",
    "        plt.subplot(tk+i+1)\n",
    "        plt.imshow(X_train[i], cmap=plt.get_cmap('gray'))\n",
    "        if(i%10==0 and tc>900):\n",
    "            print(i)\n",
    "            print(temp)\n",
    "            disp.append(temp)\n",
    "    print(disp)\n",
    "            \n",
    "\n",
    "print(disp)\n",
    "plt.tight_layout()\n",
    "\n",
    "plt.show()\n"
   ]
  },
  {
   "cell_type": "code",
   "execution_count": null,
   "metadata": {
    "collapsed": true
   },
   "outputs": [],
   "source": [
    "print(y_test[0])\n",
    "'''perturb=G.predict(X_test[0:5])\n",
    "perturb_out=perturb.reshape(5,28,28)\n",
    "\n",
    "\n",
    "\n",
    "generated_images= X_test[0:5]+perturb\n",
    "#generated_images_out=generated_images.reshape(5,28,28)\n",
    "#generated_images_out=np.array(generated_images_out,dtype='float')\n",
    "\n",
    "axarr[0,1].imshow(generated_images_out[0,:,:],cmap=\"Greys_r\")\n",
    "axarr[0,2].imshow(generated_images_out[1,:,:],cmap=\"Greys_r\")\n",
    "axarr[0,3].imshow(generated_images_out[2,:,:],cmap=\"Greys_r\")\n",
    "axarr[0,4].imshow(generated_images_out[3,:,:],cmap=\"Greys_r\")\n",
    "axarr[0,5].imshow(generated_images_out[4,:,:],cmap=\"Greys_r\")'''\n",
    "f, axarr = plt.subplots(2,5)\n",
    "X_test_out=X_test.reshape(10000,28,28)\n",
    "print(X_test_out.shape,X_test.shape,sep='\\n')\n",
    "str1='9'\n",
    "for i in range(10):\n",
    "    f, axarr = plt.subplots(2,5)\n",
    "    for jk in range(1,10):\n",
    "        str1=''.join([str1,str(i),str(jk)])\n",
    "        print(str1)\n",
    "        print\n",
    "        plt.subplot(int(str1))\n",
    "    #plt.subplot(9, 11, i+1)\n",
    "    #weight = sess.run(W)[:,i]\n",
    "        plt.title(i)\n",
    "        #plt.imshow(weight.reshape([28,28]), cmap=plt.get_cmap('seismic'))\n",
    "        plt.imshow(X_test_out[i,:,:],cmap=\"Greys_r\")\n",
    "        frame1 = plt.gca()\n",
    "        frame1.axes.get_xaxis().set_visible(False)\n",
    "        frame1.axes.get_yaxis().set_visible(False)\n",
    "'''\n",
    "for count in range(2):\n",
    "    #axarr[1,count].imshow(X_test_out[count,:,:],cmap=\"Greys_r\")\n",
    "    axarr[0].imshow(X_test_out[0,:,:],cmap=\"Greys_r\")\n",
    "    axarr[1].imshow(X_test_out[1,:,:],cmap=\"Greys_r\")\n",
    "    axarr[2].imshow(X_test_out[2,:,:],cmap=\"Greys_r\")\n",
    "    axarr[3].imshow(X_test_out[3,:,:],cmap=\"Greys_r\")\n",
    "    axarr[4].imshow(X_test_out[4,:,:],cmap=\"Greys_r\")\n",
    "    axarr[5].imshow(X_test_out[5,:,:],cmap=\"Greys_r\")\n",
    "    axarr[6].imshow(X_test_out[6,:,:],cmap=\"Greys_r\")'''\n",
    "\n",
    "#plt.imshow(generated_images_out[1,:,:],cmap=\"Greys_r\")\n",
    "plt.show()\n",
    "'''f, axarr = plt.subplots(1,5)\n",
    "X_test_out=X_test.reshape(10000,28,28)\n",
    "\n",
    "axarr[0].imshow(X_test_out[0,:,:],cmap=\"Greys_r\")\n",
    "axarr[1].imshow(X_test_out[1,:,:],cmap=\"Greys_r\")\n",
    "axarr[2].imshow(X_test_out[2,:,:],cmap=\"Greys_r\")\n",
    "axarr[3].imshow(X_test_out[3,:,:],cmap=\"Greys_r\")\n",
    "axarr[4].imshow(X_test_out[4,:,:],cmap=\"Greys_r\")\n",
    "\n",
    "#plt.imshow(generated_images_out[1,:,:],cmap=\"Greys_r\")\n",
    "plt.show()\n",
    "#plt.imshow(X_testout[1,:,:],cmap=\"Greys_r\")\n",
    "#plt.show()'''"
   ]
  },
  {
   "cell_type": "code",
   "execution_count": 26,
   "metadata": {},
   "outputs": [
    {
     "name": "stdout",
     "output_type": "stream",
     "text": [
      "(10000, 10)\n",
      "(10000, 28, 28, 1)\n",
      "(10000, 10)\n",
      "Xtests are: they are the same\n",
      "Ytests are: they are the same\n",
      "[3, 10, 13, 25, 28, 55, 69, 71, 101, 126]\n",
      "[2, 5, 14, 29, 31, 37, 39, 40, 46, 57]\n",
      "[1, 35, 38, 43, 47, 72, 77, 82, 106, 119]\n",
      "[18, 30, 32, 44, 51, 63, 68, 76, 87, 90]\n",
      "[4, 6, 19, 24, 27, 33, 42, 48, 49, 56]\n",
      "[8, 15, 23, 45, 52, 53, 59, 102, 120, 127]\n",
      "[11, 21, 22, 50, 54, 66, 81, 88, 91, 98]\n",
      "[0, 17, 26, 34, 36, 41, 60, 64, 70, 75]\n",
      "[61, 84, 110, 128, 134, 146, 177, 179, 181, 184]\n",
      "[7, 9, 12, 16, 20, 58, 62, 73, 78, 92]\n"
     ]
    }
   ],
   "source": [
    "from keras.datasets import mnist\n",
    "from matplotlib import pyplot\n",
    "import keras\n",
    "import GAN\n",
    "import pickle\n",
    "import numpy as np\n",
    "from keras.utils import to_categorical \n",
    "import tensorflow as tf\n",
    "(X,y),(X_test,y_test)=mnist.load_data()\n",
    "X= np.divide(X,255)\n",
    "X=X.reshape(X.shape[0],28,28,1)\n",
    "X_test= np.divide(X_test,255)\n",
    "X_test=X_test.reshape(X_test.shape[0],28,28,1)\n",
    "y=to_categorical(y, num_classes=10)\n",
    "y_test=to_categorical(y_test, num_classes=10)\n",
    "#X_test=pickle.load(open(\"X_testm.p\",\"rb\"))\n",
    "tempy=pickle.load(open(\"Y_testm.p\",\"rb\"))\n",
    "\n",
    "ylabels=np.random.randint(10000,size=100)\n",
    "#X_testout=X_test.reshape(10000,28,28)\n",
    "X_testout=X_test.reshape(10000,28,28,1)\n",
    "tempx=pickle.load(open(\"X_testm.p\",\"rb\"))\n",
    "print(y_test.shape)\n",
    "print(X_testout.shape)\n",
    "print(tempy.shape)\n",
    "print('Xtests are:',end=' ')\n",
    "if(tempx.all()==X_test.all()):\n",
    "    print(\"they are the same\")\n",
    "else:\n",
    "    print('Different')\n",
    "print('Ytests are:',end=' ')\n",
    "if(tempy.all()==y_test.all()):\n",
    "    print(\"they are the same\")\n",
    "else:\n",
    "    print('Different')\n",
    "#X_test=tempx\n",
    "config = tf.ConfigProto()\n",
    "config.gpu_options.allow_growth=True\n",
    "# Assume that you have 12GB of GPU memory and want to allocate 500MB:\n",
    "config.gpu_options.per_process_gpu_memory_fraction=(4000/5000)\n",
    "sess = tf.Session(config=config)\n",
    "indices=[ np.where(r==1)[0][0] for r in y_test ]\n",
    "targeted_labels={m:list() for m in range(10)}\n",
    "for index,handwrittennum in enumerate(indices[:1000]):\n",
    "    targeted_labels[handwrittennum].append(index)\n",
    "    counter=0\n",
    "for outer in range(10):\n",
    "    #for inner in range(10):\n",
    "    print(targeted_labels[outer][:10])\n",
    "def fn(correct, predicted):\n",
    "    return tf.nn.softmax_cross_entropy_with_logits(labels=correct,\n",
    "                                                       logits=predicted)\n",
    "\n",
    "#returns a loaded generator object for given params\n",
    "def getGenerator(box,modelname,targetclass=None):\n",
    "    GANmod, G, D, f= GAN.Define_GAN([28,28,1], 1, 10000,modelname)\n",
    "    if(box=='white'):\n",
    "        if targetclass:\n",
    "            wtspath='TargetedAttack/Target_'+modelname+\"_Wbox_Gwt_\"+targetclass+'.hdf5'\n",
    "            print(\"Loaded Attacker G for Model:\",modelname)\n",
    "        else:\n",
    "            wtspath='WhiteBox/'+modelname+\"_Wbox_Gwt5k\"\n",
    "            fpath='WhiteBox/'+modelname+'_Wbox_fwt5k'\n",
    "            f.load_weights(fpath)\n",
    "            print(\"Loaded White Box G for Model:\",modelname)\n",
    "    if(box=='static'):\n",
    "        wtspath='BlackBox/'+modelname+\"_Bbox_Gwt5k\"\n",
    "        print(\"Loaded Black Box G for Model:\",modelname)\n",
    "    if(box=='dynamic'):\n",
    "        wtspath='dynamicdistweights/'+modelname+\"_DynDist_Gwt20k\"\n",
    "        fpath='dynamicdistweights/'+modelname+'_DynDist_fwt20k'\n",
    "        f.load_weights(fpath)\n",
    "        print(\"Loaded Dynamically Distilled BBox G for Model:\",modelname)\n",
    "     \n",
    "    G.load_weights(wtspath)\n",
    "    #f.load_weights(fpath)\n",
    "    \n",
    "    return G,f\n",
    "def Untargetedviz(modelname,WBbox):\n",
    "    \n",
    "    \n",
    "    # load data\n",
    "    print('\\nInside visualizer\\n',WBbox)\n",
    "    G,f=getGenerator(WBbox,modelname)\n",
    "    perturb=G.predict(X_test)\n",
    "    perturb_out=perturb.reshape(10000,28,28)\n",
    "    generated_images= X_test+perturb\n",
    "    print(np.sum(perturb[10,:,:]==perturb[100,:,:]))\n",
    "    print(np.max(perturb_out))\n",
    "\n",
    "    generated_images_out=generated_images.reshape(10000,28,28)\n",
    "    generated_images_out=np.array(generated_images_out,dtype='float')\n",
    "\n",
    "    #print(rands)\n",
    "    c=0\n",
    "    #pyplot.figure(figsize=(7,7))\n",
    "    \n",
    "    imagegrid=[]\n",
    "    temp={}\n",
    "    print(generated_images_out.shape)\n",
    "    for tjn in range(10):\n",
    "        \n",
    "        \n",
    "        '''frame1 = pyplot.gca()\n",
    "        frame1.axes.xaxis.set_ticklabels([])\n",
    "        frame1.axes.yaxis.set_ticklabels([])'''\n",
    "        pyplot.figure(figsize=(9,9))\n",
    "        for i in range(9):\n",
    "            #pyplot.figure(figsize=(1,9))\n",
    "            pyplot.subplot(990 + 1 + i)\n",
    "            \n",
    "            \n",
    "            pyplot.tick_params(labelcolor='none', top='off', bottom='off', left='off', right='off')\n",
    "            #pyplot.tight_layout()\n",
    "            pyplot.subplots_adjust(wspace=0, hspace=0)\n",
    "            #pyplot.tight_layout()\n",
    "            pyplot.imshow(generated_images_out[ylabels[c]], cmap=pyplot.get_cmap('gray'))\n",
    "            #pyplot.imshow(X_test[c], cmap=pyplot.get_cmap('gray'))\n",
    "            try:\n",
    "                #print('C',c,'Ytest[C]',y_test[c])\n",
    "                #Change temmpy and y_test\n",
    "                #==================\n",
    "                #indices=> handwritten number\n",
    "                #ylabels => position of indices[c] in y_test\n",
    "                temp[indices[c]].append(ylabels[c])\n",
    "\n",
    "\n",
    "            except KeyError:\n",
    "                temp[indices[c]]=[ylabels[c]]\n",
    "            c+=1\n",
    "        #imagegrid.append(temp)\n",
    "        \n",
    "    pyplot.show()\n",
    "    return G,f\n",
    "    #print(temp)\n",
    "        # show the plot\n"
   ]
  },
  {
   "cell_type": "code",
   "execution_count": null,
   "metadata": {},
   "outputs": [],
   "source": [
    "#fmodel=keras.models.load_model('ModelB_PristineOnly')\n",
    "G,target=Untargetedviz('B',\"dynamic\")"
   ]
  },
  {
   "cell_type": "code",
   "execution_count": null,
   "metadata": {
    "collapsed": true
   },
   "outputs": [],
   "source": []
  },
  {
   "cell_type": "code",
   "execution_count": 9,
   "metadata": {
    "collapsed": true
   },
   "outputs": [],
   "source": [
    "y_test=pickle.load(open('Y_testm.p','rb'))\n",
    "X_test=pickle.load(open('X_testm.p','rb'))"
   ]
  },
  {
   "cell_type": "code",
   "execution_count": 22,
   "metadata": {},
   "outputs": [],
   "source": [
    "(X,y),(X_test,y_test)=mnist.load_data()\n",
    "X= np.divide(X,255)\n",
    "X=X.reshape(X.shape[0],28,28,1)\n",
    "X_test= np.divide(X_test,255)\n",
    "X_test=X_test.reshape(X_test.shape[0],28,28,1)\n",
    "y=to_categorical(y, num_classes=10)\n",
    "y_test=to_categorical(y_test, num_classes=10)"
   ]
  },
  {
   "cell_type": "code",
   "execution_count": 7,
   "metadata": {},
   "outputs": [
    {
     "name": "stdout",
     "output_type": "stream",
     "text": [
      "10000/10000 [==============================] - 1s     \n",
      " 9696/10000 [============================>.] - ETA: 0s"
     ]
    },
    {
     "data": {
      "text/plain": [
       "[0.14573481400465244, 0.96220000000000006]"
      ]
     },
     "execution_count": 7,
     "metadata": {},
     "output_type": "execute_result"
    }
   ],
   "source": [
    "target=keras.models.load_model('ModelC_PristineOnly', custom_objects={'fn':fn})\n",
    "#G=getGenerator(box='white',modelname='B')\n",
    "X_test_perturb=np.add(X_test,G.predict(X_test))\n",
    "#targ_pred=np.argmax(target.predict(X_test_perturb),1)\n",
    "target.evaluate(X_test_perturb,y_test,verbose=1)\n",
    "target.evaluate(X_test,y_test,verbose=1)\n",
    "#adv_acc=accuracy_score(np.argmax(y_test,1),targ_pred)\n",
    "#print('Test Accuracy: ' + str(adv_acc))"
   ]
  },
  {
   "cell_type": "code",
   "execution_count": null,
   "metadata": {
    "collapsed": true
   },
   "outputs": [],
   "source": [
    "y_test=pickle.load(open('Y_testm.p','rb'))\n",
    "prx_test=pickle.load(open('X_testm.p','rb'))\n",
    "#f2=load('ModelC_PristineOnly', custom_objects={'fn':fn})\n",
    "#prprd=f2.predict(prx_test)\n",
    "#advprd=f2.predict(generated_images)\n",
    "#prprd_y = np.argmax(prprd, axis=1)\n",
    "#advprd_y = np.argmax(advprd, axis=1)\n",
    "prscore=target.evaluate(prx_test,y_test, verbose=1)\n",
    "advscore=target.evaluate(X_test_perturb, y_test, verbose=1)\n",
    "print('Pristine Images: Test Accuracy:',prscore[1])\n",
    "print('Adv Images Test accuracy:',advscore[1])"
   ]
  },
  {
   "cell_type": "code",
   "execution_count": 30,
   "metadata": {},
   "outputs": [],
   "source": [
    "def Targetedviz(modelname,WBbox,targetclass=None):\n",
    "    \n",
    "    \n",
    "    # load data\n",
    "    print('\\nInside visualizer\\n',WBbox)\n",
    "    G,f=getGenerator(WBbox,modelname,targetclass)\n",
    "    perturb=G.predict(X_test)\n",
    "    perturb_out=perturb.reshape(10000,28,28)\n",
    "    generated_images= X_test+perturb\n",
    "    print(np.sum(perturb[10,:,:]==perturb[100,:,:]))\n",
    "    print(np.max(perturb_out))\n",
    "\n",
    "    generated_images_out=generated_images.reshape(10000,28,28)\n",
    "    generated_images_out=np.array(generated_images_out,dtype='float')\n",
    "\n",
    "    #print(rands)\n",
    "    c=0\n",
    "    #pyplot.figure(figsize=(7,7))\n",
    "    \n",
    "    imagegrid=[]\n",
    "    temp={}\n",
    "    print(generated_images_out.shape)\n",
    "    print(X_test.shape)\n",
    "    for tjn in range(1,10):\n",
    "        \n",
    "        \n",
    "        '''frame1 = pyplot.gca()\n",
    "        frame1.axes.xaxis.set_ticklabels([])\n",
    "        frame1.axes.yaxis.set_ticklabels([])'''\n",
    "        pyplot.figure(figsize=(9,9))\n",
    "        for i in range(1,10):\n",
    "            #pyplot.figure(figsize=(1,9))\n",
    "            pyplot.subplot(990 +  i)\n",
    "            \n",
    "            pyplot.tick_params(labelcolor='none', top='off', bottom='off', left='off', right='off')\n",
    "            #pyplot.tight_layout()\n",
    "            pyplot.subplots_adjust(wspace=0, hspace=0)\n",
    "            if i == tjn:\n",
    "                #show_OriginalImage(i+1)\n",
    "                pyplot.imshow(X_testout[targeted_labels[tjn][0],:,:],cmap=\"Greys_r\")\n",
    "            else:\n",
    "                pyplot.imshow(generated_images_out[targeted_labels[tjn][0]], cmap=pyplot.get_cmap('gray'))\n",
    "                #pyplot.imshow(X_test[c], cmap=pyplot.get_cmap('gray'))\n",
    "            try:\n",
    "                #print('C',c,'Ytest[C]',y_test[c])\n",
    "                #Change temmpy and y_test\n",
    "                #==================\n",
    "                #indices=> handwritten number\n",
    "                #ylabels => position of indices[c] in y_test\n",
    "                temp[indices[c]].append(ylabels[c])\n",
    "\n",
    "\n",
    "            except KeyError:\n",
    "                temp[indices[c]]=[ylabels[c]]\n",
    "            c+=1\n",
    "        #imagegrid.append(temp)\n",
    "        \n",
    "        pyplot.show()\n",
    "    return G,f\n",
    "    #print(temp)\n",
    "        # show the plot\n"
   ]
  },
  {
   "cell_type": "code",
   "execution_count": 31,
   "metadata": {},
   "outputs": [
    {
     "name": "stdout",
     "output_type": "stream",
     "text": [
      "\n",
      "Inside visualizer\n",
      " white\n",
      "Phew\n",
      "I'm here 111\n",
      "Tensor(\"model_19_target:0\", shape=(?, ?, ?, ?), dtype=float32)\n",
      "____________________________________________________________________________________________________\n",
      "Layer (type)                     Output Shape          Param #     Connected to                     \n",
      "====================================================================================================\n",
      "input_21 (InputLayer)            (None, 28, 28, 1)     0                                            \n",
      "____________________________________________________________________________________________________\n",
      "model_19 (Model)                 (None, 28, 28, 1)     85757       input_21[0][0]                   \n",
      "____________________________________________________________________________________________________\n",
      "add_35 (Add)                     (None, 28, 28, 1)     0           input_21[0][0]                   \n",
      "                                                                   model_19[1][0]                   \n",
      "____________________________________________________________________________________________________\n",
      "model_20 (Model)                 (None, 1)             10717       add_35[0][0]                     \n",
      "____________________________________________________________________________________________________\n",
      "sequential_7 (Sequential)        (None, 10)            312202      add_35[0][0]                     \n",
      "====================================================================================================\n",
      "Total params: 408,676\n",
      "Trainable params: 96,474\n",
      "Non-trainable params: 312,202\n",
      "____________________________________________________________________________________________________\n",
      "Loaded Attacker G for Model: C\n",
      "198\n",
      "1.77921\n",
      "(10000, 28, 28)\n",
      "(10000, 28, 28, 1)\n"
     ]
    },
    {
     "data": {
      "image/png": "[encoded data removed]",
      "text/plain": [
       "<matplotlib.figure.Figure at 0x7f1d48113e80>"
      ]
     },
     "metadata": {},
     "output_type": "display_data"
    },
    {
     "data": {
      "image/png": "[encoded data removed]",
      "text/plain": [
       "<matplotlib.figure.Figure at 0x7f1b181a6518>"
      ]
     },
     "metadata": {},
     "output_type": "display_data"
    },
    {
     "data": {
      "image/png": "[encoded data removed]",
      "text/plain": [
       "<matplotlib.figure.Figure at 0x7f1b00766fd0>"
      ]
     },
     "metadata": {},
     "output_type": "display_data"
    },
    {
     "data": {
      "image/png": "[encoded data removed]",
      "text/plain": [
       "<matplotlib.figure.Figure at 0x7f1b001bd7f0>"
      ]
     },
     "metadata": {},
     "output_type": "display_data"
    },
    {
     "data": {
      "image/png": "[encoded data removed]",
      "text/plain": [
       "<matplotlib.figure.Figure at 0x7f1b0067a748>"
      ]
     },
     "metadata": {},
     "output_type": "display_data"
    },
    {
     "data": {
      "image/png": "[encoded data removed]",
      "text/plain": [
       "<matplotlib.figure.Figure at 0x7f1adc0f7f28>"
      ]
     },
     "metadata": {},
     "output_type": "display_data"
    },
    {
     "data": {
      "image/png": "[encoded data removed]",
      "text/plain": [
       "<matplotlib.figure.Figure at 0x7f1ac05dd320>"
      ]
     },
     "metadata": {},
     "output_type": "display_data"
    },
    {
     "data": {
      "image/png": "[encoded data removed]",
      "text/plain": [
       "<matplotlib.figure.Figure at 0x7f1ac0325c18>"
      ]
     },
     "metadata": {},
     "output_type": "display_data"
    },
    {
     "data": {
      "image/png": "[encoded data removed]",
      "text/plain": [
       "<matplotlib.figure.Figure at 0x7f1b7b8ecb38>"
      ]
     },
     "metadata": {},
     "output_type": "display_data"
    }
   ],
   "source": [
    "G,target=Targetedviz('C',\"white\",targetclass='0')"
   ]
  },
  {
   "cell_type": "code",
   "execution_count": 29,
   "metadata": {},
   "outputs": [
    {
     "name": "stdout",
     "output_type": "stream",
     "text": [
      "5\n"
     ]
    },
    {
     "data": {
      "image/png": "[encoded data removed]",
      "text/plain": [
       "<matplotlib.figure.Figure at 0x7f1d47f1d080>"
      ]
     },
     "metadata": {},
     "output_type": "display_data"
    },
    {
     "data": {
      "image/png": "[encoded data removed]",
      "text/plain": [
       "<matplotlib.figure.Figure at 0x7f1d47e5f6d8>"
      ]
     },
     "metadata": {},
     "output_type": "display_data"
    }
   ],
   "source": [
    "print(targeted_labels[1][1])\n",
    "X_testout=X_test.reshape(10000,28,28)\n",
    "pyplot.imshow(X_testout[1,:,:],cmap=\"Greys_r\")\n",
    "pyplot.show()\n",
    "#print(tempx[targeted_labels[5][0],:,:].reshape(28,28))\n",
    "pyplot.imshow(X_testout[1,:,:], cmap=pyplot.get_cmap('gray'))\n",
    "pyplot.show()"
   ]
  },
  {
   "cell_type": "code",
   "execution_count": 30,
   "metadata": {},
   "outputs": [
    {
     "name": "stdout",
     "output_type": "stream",
     "text": [
      "(10000, 28, 28, 1)\n"
     ]
    }
   ],
   "source": [
    "print(X_test.shape)"
   ]
  },
  {
   "cell_type": "code",
   "execution_count": null,
   "metadata": {
    "collapsed": true
   },
   "outputs": [],
   "source": []
  }
 ],
 "metadata": {
  "kernelspec": {
   "display_name": "Python 3",
   "language": "python",
   "name": "python3"
  },
  "language_info": {
   "codemirror_mode": {
    "name": "ipython",
    "version": 3
   },
   "file_extension": ".py",
   "mimetype": "text/x-python",
   "name": "python",
   "nbconvert_exporter": "python",
   "pygments_lexer": "ipython3",
   "version": "3.5.2"
  }
 },
 "nbformat": 4,
 "nbformat_minor": 2
}
