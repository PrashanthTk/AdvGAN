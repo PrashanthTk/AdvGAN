{
 "cells": [
  {
   "cell_type": "markdown",
   "metadata": {},
   "source": [
    "# Generator Model"
   ]
  },
  {
   "cell_type": "code",
   "execution_count": 3,
   "metadata": {},
   "outputs": [
    {
     "data": {
      "text/plain": [
       "<keras.engine.training.Model at 0x7f634b7e1c88>"
      ]
     },
     "execution_count": 3,
     "metadata": {},
     "output_type": "execute_result"
    }
   ],
   "source": [
    "'''\n",
    "Created on Nov 16, 2017\n",
    "\n",
    "Purpose is to replicate results of Generating Adversarial Examples with Adversarial Networks, ICLR 2018.\n",
    "'''\n",
    "\n",
    "\n",
    "'''\n",
    "from keras import backend as K\n",
    "from keras.engine.topology import Layer\n",
    "from keras.layers import Convolution2D\n",
    "from keras_contrib.layers.normalization import InstanceNormalization, BatchRenormalization\n",
    "'''\n",
    "    \n",
    "'''\n",
    "class Conv_InstNorm_Relu(Layer):\n",
    "    def __init__(self, output_dim, **kwargs):\n",
    "        self.output_dim = output_dim\n",
    "        super(Conv_InstNorm_Relu, self).__init__(**kwargs)\n",
    "\n",
    "    def build(self, input_shape,filters,stride):\n",
    "        self.kernel = self.add_weight(name='kernel', \n",
    "                                      shape=(input_shape[1], self.output_dim),\n",
    "                                      initializer='uniform',\n",
    "                                      trainable=True)\n",
    "        super(Conv_InstNorm_Relu, self).build(input_shape)\n",
    "\n",
    "    def call(self, x):\n",
    "        \n",
    "        return K.dot(x, self.kernel)\n",
    "\n",
    "    def compute_output_shape(self, input_shape):\n",
    "        return (input_shape[0], self.output_dim)    \n",
    "    \n",
    "    \n",
    "x=Conv_InstNorm_Relu(input_shape=[],)\n",
    "'''\n",
    "\n",
    "#https://github.com/PiscesDream/CycleGAN-keras/blob/master/CycleGAN/models/gen/resnet.py\n",
    "\n",
    "\n",
    "from keras.layers import Convolution2D, ZeroPadding2D,Activation,Add,Convolution2DTranspose\n",
    "from keras_contrib.layers.normalization import InstanceNormalization\n",
    "from keras.models import Model\n",
    "from keras.layers import Input,Dense,Flatten\n",
    "from keras.layers import LeakyReLU\n",
    "\n",
    "def Conv_InstNorm_Relu(x_input,filters,kernel_size=(3,3),stride=1):\n",
    "    \n",
    "    l=ZeroPadding2D()(x_input)\n",
    "    l=Convolution2D(filters=filters, kernel_size=(3,3), strides=stride,activation='linear')(l)\n",
    "    l=InstanceNormalization()(l)\n",
    "    l=Activation('relu')(l)\n",
    "    \n",
    "    return l\n",
    "\n",
    "def Res_Block(x_input, filters, kernel_size=(3,3), stride=1):\n",
    "\n",
    "    l=ZeroPadding2D()(x_input)\n",
    "    l = Convolution2D(filters=filters, \n",
    "                kernel_size=kernel_size,\n",
    "                strides=stride,)(l)\n",
    "    l=InstanceNormalization()(l)\n",
    "    l = Activation('relu')(l)\n",
    "\n",
    "    l = ZeroPadding2D()(l)\n",
    "    l = Convolution2D(filters=filters, \n",
    "                kernel_size=kernel_size,\n",
    "                strides=stride,)(l)\n",
    "    l = InstanceNormalization()(l)\n",
    "    merged = Add()([x_input, l])\n",
    "    return merged\n",
    "    \n",
    "def TransConv_InstNorm_Relu(x_input,filters,kernel_size=(3,3),stride=2):\n",
    "    \n",
    "    l=Convolution2DTranspose(filters=filters, kernel_size=kernel_size, strides=stride,activation='linear',padding='same')(x_input)\n",
    "    l=InstanceNormalization()(l)\n",
    "    l=Activation('relu')(l)\n",
    "    \n",
    "    return l\n",
    "\n",
    "def Define_Generator(input_shape):\n",
    "    \n",
    "    \n",
    "    m_in=Input(shape=input_shape)\n",
    "    m=Conv_InstNorm_Relu(m_in,filters=8,stride=1)\n",
    "    \n",
    "    m=Conv_InstNorm_Relu(m,filters=16,stride=2)\n",
    "    m=Conv_InstNorm_Relu(m,filters=32,stride=2)\n",
    "    \n",
    "    m=Res_Block(m, filters=32)\n",
    "    m=Res_Block(m, filters=32)\n",
    "    m=Res_Block(m, filters=32)\n",
    "    m=Res_Block(m, filters=32)\n",
    "    \n",
    "    m=TransConv_InstNorm_Relu(m,filters=16,stride=2)\n",
    "    m=TransConv_InstNorm_Relu(m,filters=8,stride=2)\n",
    "    \n",
    "    m_out=Conv_InstNorm_Relu(m,filters=1,stride=1)\n",
    "    \n",
    "    M=Model(m_in,m_out)\n",
    "    M.compile(optimizer='adam', loss='mean_squared_error')\n",
    "    \n",
    "    M.summary()\n",
    "    \n",
    "    return M\n",
    "    \n",
    "    \n",
    "Define_Generator([28,28,1])    \n",
    "\n",
    "\n",
    "\n",
    "\n",
    "\n",
    "\n"
   ]
  },
  {
   "cell_type": "markdown",
   "metadata": {},
   "source": [
    "# Discriminator Model"
   ]
  },
  {
   "cell_type": "code",
   "execution_count": 4,
   "metadata": {},
   "outputs": [
    {
     "data": {
      "text/plain": [
       "<keras.engine.training.Model at 0x7f634b63fc50>"
      ]
     },
     "execution_count": 4,
     "metadata": {},
     "output_type": "execute_result"
    }
   ],
   "source": [
    "'''\n",
    "Created on Nov 22, 2017\n",
    "\n",
    "Purpose is to replicate results of Generating Adversarial Examples with Adversarial Networks, ICLR 2018.\n",
    "This script implements the discriminator network.\n",
    "'''\n",
    "def Define_Discriminator(input_shape):\n",
    "    m_in=Input(shape=input_shape)\n",
    "    m=ZeroPadding2D()(m_in)\n",
    "    m = Convolution2D(filters=8, \n",
    "                kernel_size=(4,4),\n",
    "                strides=2)(m)\n",
    "    m = LeakyReLU(0.2)(m)\n",
    "    m=ZeroPadding2D()(m)\n",
    "    m=   Convolution2D(filters=16, \n",
    "                kernel_size=(4,4),\n",
    "                strides=2)(m)\n",
    "    m=InstanceNormalization()(m)\n",
    "    m = LeakyReLU(0.2)(m)\n",
    "    m=ZeroPadding2D()(m)\n",
    "    m= Convolution2D(filters=32, \n",
    "                kernel_size=(4,4),\n",
    "                strides=2)(m)\n",
    "    m=InstanceNormalization()(m)\n",
    "    m = LeakyReLU(0.2)(m)\n",
    "    m = Flatten()(m)\n",
    "\n",
    "    m_out = Dense(1, activation='sigmoid')(m)\n",
    "    \n",
    "    M=Model(m_in,m_out)\n",
    "    M.compile(optimizer='adam', loss='mean_squared_error')\n",
    "    \n",
    "    M.summary()\n",
    "    \n",
    "    return M\n",
    "    \n",
    "Define_Discriminator([28,28,1])    \n"
   ]
  },
  {
   "cell_type": "code",
   "execution_count": null,
   "metadata": {
    "collapsed": true
   },
   "outputs": [],
   "source": []
  }
 ],
 "metadata": {
  "kernelspec": {
   "display_name": "Python 3",
   "language": "python",
   "name": "python3"
  },
  "language_info": {
   "codemirror_mode": {
    "name": "ipython",
    "version": 3
   },
   "file_extension": ".py",
   "mimetype": "text/x-python",
   "name": "python",
   "nbconvert_exporter": "python",
   "pygments_lexer": "ipython3",
   "version": "3.5.2"
  }
 },
 "nbformat": 4,
 "nbformat_minor": 2
}
